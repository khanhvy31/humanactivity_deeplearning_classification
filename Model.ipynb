{
  "nbformat": 4,
  "nbformat_minor": 0,
  "metadata": {
    "colab": {
      "provenance": [],
      "include_colab_link": true
    },
    "kernelspec": {
      "name": "python3",
      "display_name": "Python 3"
    },
    "language_info": {
      "name": "python"
    }
  },
  "cells": [
    {
      "cell_type": "markdown",
      "metadata": {
        "id": "view-in-github",
        "colab_type": "text"
      },
      "source": [
        "<a href=\"https://colab.research.google.com/github/khanhvy31/humanactivity_wearablesensor/blob/main/Model.ipynb\" target=\"_parent\"><img src=\"https://colab.research.google.com/assets/colab-badge.svg\" alt=\"Open In Colab\"/></a>"
      ]
    },
    {
      "cell_type": "code",
      "execution_count": null,
      "metadata": {
        "id": "A-9KKm-iakKf"
      },
      "outputs": [],
      "source": [
        "import torch\n",
        "import torch.nn as nn"
      ]
    },
    {
      "cell_type": "code",
      "source": [
        "class modelV1(nn.Module):\n",
        "  def __init__(self, config):\n",
        "    super(modelV1, self).__init__()\n",
        "    self.lstm = nn.LSTM(config.feature_length, 50, 1, batch_first=True)\n",
        "    ffn_input_shape = self.computeShape(config.batch_size, config.sample_length)\n",
        "    self.head = nn.Linear(ffn_input_shape, 13)\n",
        "\n",
        "  def forward(self, x):\n",
        "    x, (c, h) = self.lstm(x)\n",
        "    # print(x.shape)\n",
        "    x = torch.flatten(x, start_dim=1)\n",
        "    # print(x.shape)\n",
        "    x = self.head(x)\n",
        "    return x\n",
        "\n",
        "  def computeShape(self, batch_size, sample_length=8):\n",
        "    'compute the flattened shape to FFN head'\n",
        "    tens = torch.randn((batch_size, sample_length, config.feature_length))\n",
        "    x, (c, h) = self.lstm(tens)\n",
        "    return torch.flatten(x, start_dim=1).shape[1]"
      ],
      "metadata": {
        "id": "33GseHspb3rS"
      },
      "execution_count": null,
      "outputs": []
    },
    {
      "cell_type": "code",
      "source": [
        "class ConvNet1D(nn.Module):\n",
        "    def __init__(self, config):\n",
        "        super().__init__()\n",
        "        self.layer1 = nn.Sequential(\n",
        "            nn.Conv1d(23, 64, kernel_size=3),\n",
        "            nn.ReLU(),\n",
        "            nn.Dropout(0.5))\n",
        "        self.layer2 = nn.Flatten()\n",
        "        \n",
        "        ffn_input_shape = self.computeShape(config.batch_size, config.sample_length)\n",
        "\n",
        "        self.layer3 = nn.Sequential(\n",
        "            nn.Linear(ffn_input_shape,128),\n",
        "            nn.ReLU())\n",
        "        self.layer4 = nn.Sequential(\n",
        "            nn.Linear(128,13),\n",
        "            nn.Softmax())\n",
        "        \n",
        "        self.c = config\n",
        "\n",
        "    def forward(self, x):\n",
        "        x = x.permute((0, 2, 1))\n",
        "        out = self.layer1(x)\n",
        "        out = self.layer2(out)\n",
        "        out = self.layer3(out)\n",
        "        out = self.layer4(out)\n",
        "        return out\n",
        "\n",
        "    def computeShape(self, batch_size, sample_length=8):\n",
        "      'compute the flattened shape to FFN head'\n",
        "      tens = torch.randn((batch_size, 23, sample_length))\n",
        "      x = self.layer1(tens)\n",
        "      x = self.layer2(x)\n",
        "      return x.shape[1]"
      ],
      "metadata": {
        "id": "x9kI9WNDBg08"
      },
      "execution_count": null,
      "outputs": []
    },
    {
      "cell_type": "code",
      "source": [
        "class RNNModel(nn.Module):\n",
        "    def __init__(self, input_size, hidden_dim, n_layers, output_size):\n",
        "        super().__init__()\n",
        "\n",
        "        # Defining some parameters\n",
        "        self.input_size = (8,23)\n",
        "        self.hidden_dim = 13\n",
        "        self.n_layers = 1\n",
        "        self.output_size = (23,13)\n",
        "\n",
        "        #Defining the layers\n",
        "        # RNN Layer\n",
        "        self.rnn = torch.nn.RNN(input_size, hidden_dim, n_layers, batch_first=True)   \n",
        "        # Fully connected layer\n",
        "        self.fc = nn.Linear(hidden_dim, output_size)\n",
        "    \n",
        "    def forward(self, x):\n",
        "        h = self.rnn(x)[0]\n",
        "        x = self.fc(h)\n",
        "        return x"
      ],
      "metadata": {
        "id": "E6qYwsLZlZEk"
      },
      "execution_count": null,
      "outputs": []
    }
  ]
}